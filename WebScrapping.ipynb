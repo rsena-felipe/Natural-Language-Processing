{
 "cells": [
  {
   "source": [
    "# Web Scrapping"
   ],
   "cell_type": "markdown",
   "metadata": {}
  },
  {
   "cell_type": "code",
   "execution_count": 8,
   "metadata": {
    "tags": []
   },
   "outputs": [
    {
     "output_type": "display_data",
     "data": {
      "text/plain": "<IPython.core.display.HTML object>",
      "text/html": "<style>.container { width:100% !important; }</style>"
     },
     "metadata": {}
    },
    {
     "output_type": "stream",
     "name": "stderr",
     "text": "[nltk_data] Downloading package punkt to\n[nltk_data]     C:\\Users\\raulf\\AppData\\Roaming\\nltk_data...\n[nltk_data]   Package punkt is already up-to-date!\n"
    },
    {
     "output_type": "execute_result",
     "data": {
      "text/plain": "True"
     },
     "metadata": {},
     "execution_count": 8
    }
   ],
   "source": [
    "from IPython.core.display import display, HTML\n",
    "display(HTML(\"<style>.container { width:100% !important; }</style>\"))\n",
    "\n",
    "import pandas as pd\n",
    "import numpy as np\n",
    "from bs4 import BeautifulSoup\n",
    "import requests\n",
    "import re\n",
    "import nltk\n",
    "nltk.download('punkt')"
   ]
  },
  {
   "cell_type": "markdown",
   "metadata": {},
   "source": [
    "##  1. Drugs Interactions"
   ]
  },
  {
   "cell_type": "markdown",
   "metadata": {},
   "source": [
    "The following code objective is to find the interactions between different drugs. Making a request to the webpage: https://www.drugs.com/drug-interactions"
   ]
  },
  {
   "cell_type": "markdown",
   "metadata": {},
   "source": [
    "### 1.1 Scrapping the webpage drugs.com"
   ]
  },
  {
   "cell_type": "code",
   "execution_count": 9,
   "metadata": {},
   "outputs": [],
   "source": [
    "drug_name = \"aspirin\" # Here you have to type the drug to check the interactions"
   ]
  },
  {
   "cell_type": "code",
   "execution_count": 10,
   "metadata": {},
   "outputs": [],
   "source": [
    "url = \"https://www.drugs.com/drug-interactions/\"+drug_name+\".html\""
   ]
  },
  {
   "cell_type": "code",
   "execution_count": 11,
   "metadata": {},
   "outputs": [],
   "source": [
    "page = requests.get(url)\n",
    "soup = BeautifulSoup(page.content, 'html.parser')\n",
    "interactions = soup.find_all(\"ul\", class_=\"interactions ddc-list-unstyled\")\n",
    "all_interactions = [i.get_text() for i in interactions]"
   ]
  },
  {
   "cell_type": "markdown",
   "metadata": {},
   "source": [
    "### 1.2 Obtain the interactions"
   ]
  },
  {
   "cell_type": "code",
   "execution_count": 12,
   "metadata": {
    "tags": []
   },
   "outputs": [
    {
     "output_type": "stream",
     "name": "stdout",
     "text": "The interactions with the drug: aspirin are: \n\nAdderall (amphetamine / dextroamphetamine)\nAdvil (ibuprofen)\nAleve (naproxen)\nBenadryl (diphenhydramine)\ncaffeine\nCelebrex (celecoxib)\ncodeine\nColace (docusate)\nCoQ10 (ubiquinone)\nCrestor (rosuvastatin)\nCymbalta (duloxetine)\nEliquis (apixaban)\nFish Oil (omega-3 polyunsaturated fatty acids)\ngabapentin\nhydrocodone\nibuprofen\nLantus (insulin glargine)\nLasix (furosemide)\nLipitor (atorvastatin)\nlisinopril\nlithium\nLyrica (pregabalin)\nmeloxicam\nMetoprolol Succinate ER (metoprolol)\nMetoprolol Tartrate (metoprolol)\nMiraLAX (polyethylene glycol 3350)\nnaproxen\nNexium (esomeprazole)\nPlavix (clopidogrel)\nSynthroid (levothyroxine)\ntramadol\nTylenol (acetaminophen)\nVitamin B12 (cyanocobalamin)\nVitamin C (ascorbic acid)\nVitamin D3 (cholecalciferol)\nwarfarin\nXanax (alprazolam)\nXarelto (rivaroxaban)\n\n"
    },
    {
     "output_type": "execute_result",
     "data": {
      "text/plain": "[None]"
     },
     "metadata": {},
     "execution_count": 12
    }
   ],
   "source": [
    "print(\"The interactions with the drug: \" + drug_name + \" are: \")\n",
    "[print(i) for i in all_interactions]"
   ]
  },
  {
   "source": [
    "## 2. Phone Number of Los Angeles pizzerias"
   ],
   "cell_type": "markdown",
   "metadata": {}
  },
  {
   "source": [
    "### 2.1 Yellow Web Pages Scrapping"
   ],
   "cell_type": "markdown",
   "metadata": {}
  },
  {
   "cell_type": "code",
   "execution_count": 18,
   "metadata": {},
   "outputs": [],
   "source": [
    "webpage = 'https://www.yellowpages.com/search?search_terms=pizza&geo_location_terms=Los+Angeles%2C+CA'\n",
    "page = requests.get(webpage)\n",
    "soup = BeautifulSoup(page.content, 'html.parser')\n",
    "test = soup.findAll('div', {'class': \"info\"})"
   ]
  },
  {
   "source": [
    "### 2.2 Obtain Phone Numbers"
   ],
   "cell_type": "markdown",
   "metadata": {}
  },
  {
   "cell_type": "code",
   "execution_count": 20,
   "metadata": {},
   "outputs": [],
   "source": [
    "# Obtain all the phones\n",
    "phones = soup.find_all(\"div\", class_=\"phone\")\n",
    "phones_list = [phone.get_text() for phone in phones] \n",
    "\n",
    "# Convert to a dataframe\n",
    "phones=pd.DataFrame(phones_list)\n",
    "phones.rename(columns={0:\"Phones\"},inplace=True)"
   ]
  },
  {
   "cell_type": "code",
   "execution_count": 30,
   "metadata": {},
   "outputs": [
    {
     "output_type": "execute_result",
     "data": {
      "text/plain": "           Phones\n0  (323) 645-5849\n1  (323) 645-5849\n2  (323) 256-9617",
      "text/html": "<div>\n<style scoped>\n    .dataframe tbody tr th:only-of-type {\n        vertical-align: middle;\n    }\n\n    .dataframe tbody tr th {\n        vertical-align: top;\n    }\n\n    .dataframe thead th {\n        text-align: right;\n    }\n</style>\n<table border=\"1\" class=\"dataframe\">\n  <thead>\n    <tr style=\"text-align: right;\">\n      <th></th>\n      <th>Phones</th>\n    </tr>\n  </thead>\n  <tbody>\n    <tr>\n      <th>0</th>\n      <td>(323) 645-5849</td>\n    </tr>\n    <tr>\n      <th>1</th>\n      <td>(323) 645-5849</td>\n    </tr>\n    <tr>\n      <th>2</th>\n      <td>(323) 256-9617</td>\n    </tr>\n  </tbody>\n</table>\n</div>"
     },
     "metadata": {},
     "execution_count": 30
    }
   ],
   "source": [
    "phones.head(3)"
   ]
  },
  {
   "source": [
    "### 2.3 Obtain Web Pages"
   ],
   "cell_type": "markdown",
   "metadata": {}
  },
  {
   "cell_type": "code",
   "execution_count": 23,
   "metadata": {},
   "outputs": [],
   "source": [
    "url_list =nltk.word_tokenize(str(test))\n",
    "webpages = []\n",
    "for item in url_list:\n",
    "    if '.com' in item:\n",
    "        if 'www.' in item:\n",
    "            webpages.append(item) "
   ]
  },
  {
   "cell_type": "code",
   "execution_count": 26,
   "metadata": {},
   "outputs": [],
   "source": [
    "# Obtains links of websites\n",
    "links = soup.find_all(\"a\")\n",
    "pizzerias_url = [link.get('href') for link in links if link.get_text() == \"Website\"]\n",
    "\n",
    "# Convert to a DataFrame\n",
    "web_pizzerias=pd.DataFrame(pizzerias_url)\n",
    "web_pizzerias.rename(columns = {0:\"Web_pizzerias\"}, inplace=True)"
   ]
  },
  {
   "cell_type": "code",
   "execution_count": 29,
   "metadata": {},
   "outputs": [
    {
     "output_type": "execute_result",
     "data": {
      "text/plain": "                                       Web_pizzerias\n0  http://vine.crispycrust.com/zgrid/proc/site/si...\n1                            http://crispycrust.com/",
      "text/html": "<div>\n<style scoped>\n    .dataframe tbody tr th:only-of-type {\n        vertical-align: middle;\n    }\n\n    .dataframe tbody tr th {\n        vertical-align: top;\n    }\n\n    .dataframe thead th {\n        text-align: right;\n    }\n</style>\n<table border=\"1\" class=\"dataframe\">\n  <thead>\n    <tr style=\"text-align: right;\">\n      <th></th>\n      <th>Web_pizzerias</th>\n    </tr>\n  </thead>\n  <tbody>\n    <tr>\n      <th>0</th>\n      <td>http://vine.crispycrust.com/zgrid/proc/site/si...</td>\n    </tr>\n    <tr>\n      <th>1</th>\n      <td>http://crispycrust.com/</td>\n    </tr>\n  </tbody>\n</table>\n</div>"
     },
     "metadata": {},
     "execution_count": 29
    }
   ],
   "source": [
    "web_pizzerias.head(2)"
   ]
  }
 ],
 "metadata": {
  "kernelspec": {
   "display_name": "Python 3",
   "language": "python",
   "name": "python3"
  },
  "language_info": {
   "codemirror_mode": {
    "name": "ipython",
    "version": 3
   },
   "file_extension": ".py",
   "mimetype": "text/x-python",
   "name": "python",
   "nbconvert_exporter": "python",
   "pygments_lexer": "ipython3",
   "version": "3.6.8-final"
  }
 },
 "nbformat": 4,
 "nbformat_minor": 4
}